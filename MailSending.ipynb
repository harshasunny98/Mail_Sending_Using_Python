{
 "cells": [
  {
   "cell_type": "code",
   "execution_count": null,
   "metadata": {
    "collapsed": true
   },
   "outputs": [],
   "source": [
    "import smtplib\n",
    "from email.mime.multipart import MIMEMultipart\n",
    "from email.mime.text import MIMEText\n",
    "\n",
    "me = \"senders mail ID\"\n",
    "my_password = r\"Password\"\n",
    "you = \"recivers mail ID\"\n",
    "\n",
    "msg = MIMEMultipart('alternative')\n",
    "msg['Subject'] = \"Python Alert\"\n",
    "msg['From'] = me\n",
    "msg['To'] = you\n",
    "\n",
    "html = '<html><body><p>Test Mail from Python</p></body></html>'\n",
    "part2 = MIMEText(html, 'html')\n",
    "\n",
    "msg.attach(part2)\n",
    "s = smtplib.SMTP_SSL('smtp.gmail.com')\n",
    "s.login(me, my_password)\n",
    "s.sendmail(me, you, msg.as_string())\n",
    "s.quit()"
   ]
  }
 ],
 "metadata": {
  "kernelspec": {
   "display_name": "Python 3",
   "language": "python",
   "name": "python3"
  },
  "language_info": {
   "codemirror_mode": {
    "name": "ipython",
    "version": 3
   },
   "file_extension": ".py",
   "mimetype": "text/x-python",
   "name": "python",
   "nbconvert_exporter": "python",
   "pygments_lexer": "ipython3",
   "version": "3.6.2"
  }
 },
 "nbformat": 4,
 "nbformat_minor": 2
}
